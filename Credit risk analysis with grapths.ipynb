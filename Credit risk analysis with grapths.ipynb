{
  "nbformat": 4,
  "nbformat_minor": 0,
  "metadata": {
    "colab": {
      "provenance": []
    },
    "kernelspec": {
      "name": "python3",
      "display_name": "Python 3"
    },
    "language_info": {
      "name": "python"
    }
  },
  "cells": [
    {
      "cell_type": "code",
      "execution_count": 13,
      "metadata": {
        "id": "tcBet2BSGQyH"
      },
      "outputs": [],
      "source": [
        "import networkx as nx\n",
        "import pandas as pd\n",
        "import numpy as np\n",
        "from matplotlib import pyplot as plt \n",
        "%matplotlib inline"
      ]
    },
    {
      "cell_type": "code",
      "source": [
        "df = pd.read_csv(\"/content/credit_risk_dataset.csv\")"
      ],
      "metadata": {
        "id": "zCEcATHvIp39"
      },
      "execution_count": 8,
      "outputs": []
    },
    {
      "cell_type": "code",
      "source": [
        "df.head()"
      ],
      "metadata": {
        "colab": {
          "base_uri": "https://localhost:8080/",
          "height": 206
        },
        "id": "AX6SDEBhIugI",
        "outputId": "2037c7ed-dd45-4e25-9cf5-0bb64c806568"
      },
      "execution_count": 9,
      "outputs": [
        {
          "output_type": "execute_result",
          "data": {
            "text/plain": [
              "   person_age  person_income person_home_ownership  person_emp_length  \\\n",
              "0          22          59000                  RENT              123.0   \n",
              "1          21           9600                   OWN                5.0   \n",
              "2          25           9600              MORTGAGE                1.0   \n",
              "3          23          65500                  RENT                4.0   \n",
              "4          24          54400                  RENT                8.0   \n",
              "\n",
              "  loan_intent loan_grade  loan_amnt  loan_int_rate  loan_status  \\\n",
              "0    PERSONAL          D      35000          16.02            1   \n",
              "1   EDUCATION          B       1000          11.14            0   \n",
              "2     MEDICAL          C       5500          12.87            1   \n",
              "3     MEDICAL          C      35000          15.23            1   \n",
              "4     MEDICAL          C      35000          14.27            1   \n",
              "\n",
              "   loan_percent_income cb_person_default_on_file  cb_person_cred_hist_length  \n",
              "0                 0.59                         Y                           3  \n",
              "1                 0.10                         N                           2  \n",
              "2                 0.57                         N                           3  \n",
              "3                 0.53                         N                           2  \n",
              "4                 0.55                         Y                           4  "
            ],
            "text/html": [
              "\n",
              "  <div id=\"df-8249da19-8b24-49c0-9db1-e20b1a5689a0\">\n",
              "    <div class=\"colab-df-container\">\n",
              "      <div>\n",
              "<style scoped>\n",
              "    .dataframe tbody tr th:only-of-type {\n",
              "        vertical-align: middle;\n",
              "    }\n",
              "\n",
              "    .dataframe tbody tr th {\n",
              "        vertical-align: top;\n",
              "    }\n",
              "\n",
              "    .dataframe thead th {\n",
              "        text-align: right;\n",
              "    }\n",
              "</style>\n",
              "<table border=\"1\" class=\"dataframe\">\n",
              "  <thead>\n",
              "    <tr style=\"text-align: right;\">\n",
              "      <th></th>\n",
              "      <th>person_age</th>\n",
              "      <th>person_income</th>\n",
              "      <th>person_home_ownership</th>\n",
              "      <th>person_emp_length</th>\n",
              "      <th>loan_intent</th>\n",
              "      <th>loan_grade</th>\n",
              "      <th>loan_amnt</th>\n",
              "      <th>loan_int_rate</th>\n",
              "      <th>loan_status</th>\n",
              "      <th>loan_percent_income</th>\n",
              "      <th>cb_person_default_on_file</th>\n",
              "      <th>cb_person_cred_hist_length</th>\n",
              "    </tr>\n",
              "  </thead>\n",
              "  <tbody>\n",
              "    <tr>\n",
              "      <th>0</th>\n",
              "      <td>22</td>\n",
              "      <td>59000</td>\n",
              "      <td>RENT</td>\n",
              "      <td>123.0</td>\n",
              "      <td>PERSONAL</td>\n",
              "      <td>D</td>\n",
              "      <td>35000</td>\n",
              "      <td>16.02</td>\n",
              "      <td>1</td>\n",
              "      <td>0.59</td>\n",
              "      <td>Y</td>\n",
              "      <td>3</td>\n",
              "    </tr>\n",
              "    <tr>\n",
              "      <th>1</th>\n",
              "      <td>21</td>\n",
              "      <td>9600</td>\n",
              "      <td>OWN</td>\n",
              "      <td>5.0</td>\n",
              "      <td>EDUCATION</td>\n",
              "      <td>B</td>\n",
              "      <td>1000</td>\n",
              "      <td>11.14</td>\n",
              "      <td>0</td>\n",
              "      <td>0.10</td>\n",
              "      <td>N</td>\n",
              "      <td>2</td>\n",
              "    </tr>\n",
              "    <tr>\n",
              "      <th>2</th>\n",
              "      <td>25</td>\n",
              "      <td>9600</td>\n",
              "      <td>MORTGAGE</td>\n",
              "      <td>1.0</td>\n",
              "      <td>MEDICAL</td>\n",
              "      <td>C</td>\n",
              "      <td>5500</td>\n",
              "      <td>12.87</td>\n",
              "      <td>1</td>\n",
              "      <td>0.57</td>\n",
              "      <td>N</td>\n",
              "      <td>3</td>\n",
              "    </tr>\n",
              "    <tr>\n",
              "      <th>3</th>\n",
              "      <td>23</td>\n",
              "      <td>65500</td>\n",
              "      <td>RENT</td>\n",
              "      <td>4.0</td>\n",
              "      <td>MEDICAL</td>\n",
              "      <td>C</td>\n",
              "      <td>35000</td>\n",
              "      <td>15.23</td>\n",
              "      <td>1</td>\n",
              "      <td>0.53</td>\n",
              "      <td>N</td>\n",
              "      <td>2</td>\n",
              "    </tr>\n",
              "    <tr>\n",
              "      <th>4</th>\n",
              "      <td>24</td>\n",
              "      <td>54400</td>\n",
              "      <td>RENT</td>\n",
              "      <td>8.0</td>\n",
              "      <td>MEDICAL</td>\n",
              "      <td>C</td>\n",
              "      <td>35000</td>\n",
              "      <td>14.27</td>\n",
              "      <td>1</td>\n",
              "      <td>0.55</td>\n",
              "      <td>Y</td>\n",
              "      <td>4</td>\n",
              "    </tr>\n",
              "  </tbody>\n",
              "</table>\n",
              "</div>\n",
              "      <button class=\"colab-df-convert\" onclick=\"convertToInteractive('df-8249da19-8b24-49c0-9db1-e20b1a5689a0')\"\n",
              "              title=\"Convert this dataframe to an interactive table.\"\n",
              "              style=\"display:none;\">\n",
              "        \n",
              "  <svg xmlns=\"http://www.w3.org/2000/svg\" height=\"24px\"viewBox=\"0 0 24 24\"\n",
              "       width=\"24px\">\n",
              "    <path d=\"M0 0h24v24H0V0z\" fill=\"none\"/>\n",
              "    <path d=\"M18.56 5.44l.94 2.06.94-2.06 2.06-.94-2.06-.94-.94-2.06-.94 2.06-2.06.94zm-11 1L8.5 8.5l.94-2.06 2.06-.94-2.06-.94L8.5 2.5l-.94 2.06-2.06.94zm10 10l.94 2.06.94-2.06 2.06-.94-2.06-.94-.94-2.06-.94 2.06-2.06.94z\"/><path d=\"M17.41 7.96l-1.37-1.37c-.4-.4-.92-.59-1.43-.59-.52 0-1.04.2-1.43.59L10.3 9.45l-7.72 7.72c-.78.78-.78 2.05 0 2.83L4 21.41c.39.39.9.59 1.41.59.51 0 1.02-.2 1.41-.59l7.78-7.78 2.81-2.81c.8-.78.8-2.07 0-2.86zM5.41 20L4 18.59l7.72-7.72 1.47 1.35L5.41 20z\"/>\n",
              "  </svg>\n",
              "      </button>\n",
              "      \n",
              "  <style>\n",
              "    .colab-df-container {\n",
              "      display:flex;\n",
              "      flex-wrap:wrap;\n",
              "      gap: 12px;\n",
              "    }\n",
              "\n",
              "    .colab-df-convert {\n",
              "      background-color: #E8F0FE;\n",
              "      border: none;\n",
              "      border-radius: 50%;\n",
              "      cursor: pointer;\n",
              "      display: none;\n",
              "      fill: #1967D2;\n",
              "      height: 32px;\n",
              "      padding: 0 0 0 0;\n",
              "      width: 32px;\n",
              "    }\n",
              "\n",
              "    .colab-df-convert:hover {\n",
              "      background-color: #E2EBFA;\n",
              "      box-shadow: 0px 1px 2px rgba(60, 64, 67, 0.3), 0px 1px 3px 1px rgba(60, 64, 67, 0.15);\n",
              "      fill: #174EA6;\n",
              "    }\n",
              "\n",
              "    [theme=dark] .colab-df-convert {\n",
              "      background-color: #3B4455;\n",
              "      fill: #D2E3FC;\n",
              "    }\n",
              "\n",
              "    [theme=dark] .colab-df-convert:hover {\n",
              "      background-color: #434B5C;\n",
              "      box-shadow: 0px 1px 3px 1px rgba(0, 0, 0, 0.15);\n",
              "      filter: drop-shadow(0px 1px 2px rgba(0, 0, 0, 0.3));\n",
              "      fill: #FFFFFF;\n",
              "    }\n",
              "  </style>\n",
              "\n",
              "      <script>\n",
              "        const buttonEl =\n",
              "          document.querySelector('#df-8249da19-8b24-49c0-9db1-e20b1a5689a0 button.colab-df-convert');\n",
              "        buttonEl.style.display =\n",
              "          google.colab.kernel.accessAllowed ? 'block' : 'none';\n",
              "\n",
              "        async function convertToInteractive(key) {\n",
              "          const element = document.querySelector('#df-8249da19-8b24-49c0-9db1-e20b1a5689a0');\n",
              "          const dataTable =\n",
              "            await google.colab.kernel.invokeFunction('convertToInteractive',\n",
              "                                                     [key], {});\n",
              "          if (!dataTable) return;\n",
              "\n",
              "          const docLinkHtml = 'Like what you see? Visit the ' +\n",
              "            '<a target=\"_blank\" href=https://colab.research.google.com/notebooks/data_table.ipynb>data table notebook</a>'\n",
              "            + ' to learn more about interactive tables.';\n",
              "          element.innerHTML = '';\n",
              "          dataTable['output_type'] = 'display_data';\n",
              "          await google.colab.output.renderOutput(dataTable, element);\n",
              "          const docLink = document.createElement('div');\n",
              "          docLink.innerHTML = docLinkHtml;\n",
              "          element.appendChild(docLink);\n",
              "        }\n",
              "      </script>\n",
              "    </div>\n",
              "  </div>\n",
              "  "
            ]
          },
          "metadata": {},
          "execution_count": 9
        }
      ]
    },
    {
      "cell_type": "code",
      "source": [
        "# Read Our Edgelist\n",
        "us_graph = nx.from_pandas_edgelist(df,source=\"person_home_ownership\",target=\"loan_intent\")"
      ],
      "metadata": {
        "id": "MGToJmu4I4lF"
      },
      "execution_count": 10,
      "outputs": []
    },
    {
      "cell_type": "code",
      "source": [
        "type(us_graph)"
      ],
      "metadata": {
        "colab": {
          "base_uri": "https://localhost:8080/"
        },
        "id": "ADKeSpk-JhyA",
        "outputId": "e1b409e5-d842-4a5b-80b2-fb5391c2336f"
      },
      "execution_count": 11,
      "outputs": [
        {
          "output_type": "execute_result",
          "data": {
            "text/plain": [
              "networkx.classes.graph.Graph"
            ]
          },
          "metadata": {},
          "execution_count": 11
        }
      ]
    },
    {
      "cell_type": "code",
      "source": [
        "# Check All Nodes/Object/People\n",
        "us_graph.nodes()"
      ],
      "metadata": {
        "colab": {
          "base_uri": "https://localhost:8080/"
        },
        "id": "Et2C-23bKHaM",
        "outputId": "a909ae3f-be73-411f-e366-4dd3051602fb"
      },
      "execution_count": 18,
      "outputs": [
        {
          "output_type": "execute_result",
          "data": {
            "text/plain": [
              "NodeView(('RENT', 'PERSONAL', 'OWN', 'EDUCATION', 'MORTGAGE', 'MEDICAL', 'VENTURE', 'HOMEIMPROVEMENT', 'DEBTCONSOLIDATION', 'OTHER'))"
            ]
          },
          "metadata": {},
          "execution_count": 18
        }
      ]
    },
    {
      "cell_type": "code",
      "source": [
        "len(us_graph.nodes())"
      ],
      "metadata": {
        "colab": {
          "base_uri": "https://localhost:8080/"
        },
        "id": "VMwOHfEmKn8M",
        "outputId": "960a34af-885a-4184-e06e-11b629cf1784"
      },
      "execution_count": 19,
      "outputs": [
        {
          "output_type": "execute_result",
          "data": {
            "text/plain": [
              "10"
            ]
          },
          "metadata": {},
          "execution_count": 19
        }
      ]
    },
    {
      "cell_type": "markdown",
      "source": [
        "**Check All Edges/Connections**"
      ],
      "metadata": {
        "id": "xQ0L4Ev6K11k"
      }
    },
    {
      "cell_type": "code",
      "source": [
        "len(us_graph.edges())"
      ],
      "metadata": {
        "colab": {
          "base_uri": "https://localhost:8080/"
        },
        "id": "SuV7gyYbKuni",
        "outputId": "d7f43d0b-70c4-416b-bbbd-ee26e7e6f79f"
      },
      "execution_count": 20,
      "outputs": [
        {
          "output_type": "execute_result",
          "data": {
            "text/plain": [
              "24"
            ]
          },
          "metadata": {},
          "execution_count": 20
        }
      ]
    },
    {
      "cell_type": "code",
      "source": [
        "us_graph.add_edge(\"DOWNPAYMENT\",\"MARRIAGE\")"
      ],
      "metadata": {
        "id": "qa9Z6BlGLPlW"
      },
      "execution_count": 24,
      "outputs": []
    },
    {
      "cell_type": "code",
      "source": [
        "us_graph.nodes()"
      ],
      "metadata": {
        "colab": {
          "base_uri": "https://localhost:8080/"
        },
        "id": "NkQ5r3xiLboV",
        "outputId": "c09b96a1-7253-41d1-d872-c964db4a65f9"
      },
      "execution_count": 25,
      "outputs": [
        {
          "output_type": "execute_result",
          "data": {
            "text/plain": [
              "NodeView(('RENT', 'PERSONAL', 'OWN', 'EDUCATION', 'MORTGAGE', 'MEDICAL', 'VENTURE', 'HOMEIMPROVEMENT', 'DEBTCONSOLIDATION', 'OTHER', 'DOWNPAYMENT', 'MARRIAGE'))"
            ]
          },
          "metadata": {},
          "execution_count": 25
        }
      ]
    },
    {
      "cell_type": "markdown",
      "source": [
        "**Visualization**"
      ],
      "metadata": {
        "id": "HXYRCTxTLvDR"
      }
    },
    {
      "cell_type": "code",
      "source": [
        "import matplotlib.pyplot as plt\n",
        "%matplotlib inline"
      ],
      "metadata": {
        "id": "rztd1u9fLrf1"
      },
      "execution_count": 26,
      "outputs": []
    },
    {
      "cell_type": "code",
      "source": [
        "nx.draw(us_graph)"
      ],
      "metadata": {
        "colab": {
          "base_uri": "https://localhost:8080/",
          "height": 319
        },
        "id": "fQEaxj2YL0mJ",
        "outputId": "26ac592b-5cbf-407c-b00b-381c2fba4d25"
      },
      "execution_count": 27,
      "outputs": [
        {
          "output_type": "display_data",
          "data": {
            "text/plain": [
              "<Figure size 432x288 with 1 Axes>"
            ],
            "image/png": "[encoded data removed]"
          },
          "metadata": {}
        }
      ]
    },
    {
      "cell_type": "code",
      "source": [
        "nx.draw(us_graph,with_labels=True)"
      ],
      "metadata": {
        "colab": {
          "base_uri": "https://localhost:8080/",
          "height": 319
        },
        "id": "9WgDL7cNL3qP",
        "outputId": "ec0025c9-680e-4afe-ea61-db3b02cf2947"
      },
      "execution_count": 28,
      "outputs": [
        {
          "output_type": "display_data",
          "data": {
            "text/plain": [
              "<Figure size 432x288 with 1 Axes>"
            ],
            "image/png": "[encoded data removed]"
          },
          "metadata": {}
        }
      ]
    },
    {
      "cell_type": "code",
      "source": [
        "plt.figure(figsize=(10,10))\n",
        "nx.draw_networkx(us_graph)\n",
        "plt.show()"
      ],
      "metadata": {
        "colab": {
          "base_uri": "https://localhost:8080/",
          "height": 575
        },
        "id": "b2VO9-XML_-f",
        "outputId": "ade2290e-047d-46b8-9e27-f3de71439cbe"
      },
      "execution_count": 29,
      "outputs": [
        {
          "output_type": "display_data",
          "data": {
            "text/plain": [
              "<Figure size 720x720 with 1 Axes>"
            ],
            "image/png": "[encoded data removed]"
          },
          "metadata": {}
        }
      ]
    },
    {
      "cell_type": "markdown",
      "source": [
        "**Analysis**"
      ],
      "metadata": {
        "id": "xP4vxQ_4MHWN"
      }
    },
    {
      "cell_type": "code",
      "source": [
        "# General Connection\n",
        "nx.degree(us_graph)"
      ],
      "metadata": {
        "colab": {
          "base_uri": "https://localhost:8080/"
        },
        "id": "fHETLteMMB6I",
        "outputId": "f3936744-002c-4785-eb0f-48bec214a2f5"
      },
      "execution_count": 30,
      "outputs": [
        {
          "output_type": "execute_result",
          "data": {
            "text/plain": [
              "DegreeView({'RENT': 6, 'PERSONAL': 4, 'OWN': 6, 'EDUCATION': 4, 'MORTGAGE': 6, 'MEDICAL': 4, 'VENTURE': 4, 'HOMEIMPROVEMENT': 4, 'DEBTCONSOLIDATION': 4, 'OTHER': 6, 'DOWNPAYMENT': 1, 'MARRIAGE': 1})"
            ]
          },
          "metadata": {},
          "execution_count": 30
        }
      ]
    },
    {
      "cell_type": "markdown",
      "source": [
        "**Most Influential**"
      ],
      "metadata": {
        "id": "ohjqNKvaMW3M"
      }
    },
    {
      "cell_type": "markdown",
      "source": [
        "**Degree Centrality**"
      ],
      "metadata": {
        "id": "7lfFXxgvMudT"
      }
    },
    {
      "cell_type": "code",
      "source": [
        "nx.degree_centrality(us_graph)"
      ],
      "metadata": {
        "colab": {
          "base_uri": "https://localhost:8080/"
        },
        "id": "Y7jMD800MWmn",
        "outputId": "603473e7-6b84-4a06-eaee-c46dc7878e6c"
      },
      "execution_count": 31,
      "outputs": [
        {
          "output_type": "execute_result",
          "data": {
            "text/plain": [
              "{'RENT': 0.5454545454545454,\n",
              " 'PERSONAL': 0.36363636363636365,\n",
              " 'OWN': 0.5454545454545454,\n",
              " 'EDUCATION': 0.36363636363636365,\n",
              " 'MORTGAGE': 0.5454545454545454,\n",
              " 'MEDICAL': 0.36363636363636365,\n",
              " 'VENTURE': 0.36363636363636365,\n",
              " 'HOMEIMPROVEMENT': 0.36363636363636365,\n",
              " 'DEBTCONSOLIDATION': 0.36363636363636365,\n",
              " 'OTHER': 0.5454545454545454,\n",
              " 'DOWNPAYMENT': 0.09090909090909091,\n",
              " 'MARRIAGE': 0.09090909090909091}"
            ]
          },
          "metadata": {},
          "execution_count": 31
        }
      ]
    },
    {
      "cell_type": "code",
      "source": [
        "sorted(nx.degree_centrality(us_graph).values())"
      ],
      "metadata": {
        "colab": {
          "base_uri": "https://localhost:8080/"
        },
        "id": "Jk0Wg_SAMS_2",
        "outputId": "28ae7a1a-3753-4e7a-a881-abfd8c5778f6"
      },
      "execution_count": 32,
      "outputs": [
        {
          "output_type": "execute_result",
          "data": {
            "text/plain": [
              "[0.09090909090909091,\n",
              " 0.09090909090909091,\n",
              " 0.36363636363636365,\n",
              " 0.36363636363636365,\n",
              " 0.36363636363636365,\n",
              " 0.36363636363636365,\n",
              " 0.36363636363636365,\n",
              " 0.36363636363636365,\n",
              " 0.5454545454545454,\n",
              " 0.5454545454545454,\n",
              " 0.5454545454545454,\n",
              " 0.5454545454545454]"
            ]
          },
          "metadata": {},
          "execution_count": 32
        }
      ]
    },
    {
      "cell_type": "code",
      "source": [
        "most_influential = nx.degree_centrality(us_graph)"
      ],
      "metadata": {
        "id": "fljQLnWrMetX"
      },
      "execution_count": 33,
      "outputs": []
    },
    {
      "cell_type": "code",
      "source": [
        "for w in sorted(most_influential, key=most_influential.get, reverse=True):\n",
        "    print(w, most_influential[w])"
      ],
      "metadata": {
        "colab": {
          "base_uri": "https://localhost:8080/"
        },
        "id": "a-_XWiC9Mkbt",
        "outputId": "64e40a7e-cf02-4d0b-e0a4-91227660697e"
      },
      "execution_count": 34,
      "outputs": [
        {
          "output_type": "stream",
          "name": "stdout",
          "text": [
            "RENT 0.5454545454545454\n",
            "OWN 0.5454545454545454\n",
            "MORTGAGE 0.5454545454545454\n",
            "OTHER 0.5454545454545454\n",
            "PERSONAL 0.36363636363636365\n",
            "EDUCATION 0.36363636363636365\n",
            "MEDICAL 0.36363636363636365\n",
            "VENTURE 0.36363636363636365\n",
            "HOMEIMPROVEMENT 0.36363636363636365\n",
            "DEBTCONSOLIDATION 0.36363636363636365\n",
            "DOWNPAYMENT 0.09090909090909091\n",
            "MARRIAGE 0.09090909090909091\n"
          ]
        }
      ]
    },
    {
      "cell_type": "markdown",
      "source": [
        "**Eigenvector Centyrality**"
      ],
      "metadata": {
        "id": "J2d8PK3tMqVR"
      }
    },
    {
      "cell_type": "code",
      "source": [
        "### Most Important Connection\n",
        "nx.eigenvector_centrality"
      ],
      "metadata": {
        "colab": {
          "base_uri": "https://localhost:8080/"
        },
        "id": "FZV8yur-NLC_",
        "outputId": "7a321b6f-5a68-4527-bcf1-42dceaa3dd4a"
      },
      "execution_count": 42,
      "outputs": [
        {
          "output_type": "execute_result",
          "data": {
            "text/plain": [
              "<function networkx.algorithms.centrality.eigenvector.eigenvector_centrality(G, max_iter=100, tol=1e-06, nstart=None, weight=None)>"
            ]
          },
          "metadata": {},
          "execution_count": 42
        }
      ]
    },
    {
      "cell_type": "code",
      "source": [
        "nx.eigenvector_centrality(us_graph)"
      ],
      "metadata": {
        "colab": {
          "base_uri": "https://localhost:8080/"
        },
        "id": "mSZ6xm5KMnmE",
        "outputId": "19de006f-eafb-4386-9e74-817531256b07"
      },
      "execution_count": 36,
      "outputs": [
        {
          "output_type": "execute_result",
          "data": {
            "text/plain": [
              "{'RENT': 0.35355388897718293,\n",
              " 'PERSONAL': 0.2886747276654814,\n",
              " 'OWN': 0.35355388897718293,\n",
              " 'EDUCATION': 0.2886747276654814,\n",
              " 'MORTGAGE': 0.35355388897718293,\n",
              " 'MEDICAL': 0.2886747276654814,\n",
              " 'VENTURE': 0.2886747276654814,\n",
              " 'HOMEIMPROVEMENT': 0.2886747276654814,\n",
              " 'DEBTCONSOLIDATION': 0.2886747276654814,\n",
              " 'OTHER': 0.35355388897718293,\n",
              " 'DOWNPAYMENT': 6.592327167565238e-14,\n",
              " 'MARRIAGE': 6.592327167565238e-14}"
            ]
          },
          "metadata": {},
          "execution_count": 36
        }
      ]
    },
    {
      "cell_type": "code",
      "source": [
        "most_important_link = nx.eigenvector_centrality(us_graph)"
      ],
      "metadata": {
        "id": "I5K0q-8aM4c9"
      },
      "execution_count": 37,
      "outputs": []
    },
    {
      "cell_type": "code",
      "source": [
        "for w in sorted(most_important_link, key=most_important_link.get, reverse=True):\n",
        "    print(w, most_important_link[w])\n"
      ],
      "metadata": {
        "colab": {
          "base_uri": "https://localhost:8080/"
        },
        "id": "cGm_aKgPM6DC",
        "outputId": "33191e59-0d6b-4897-b3d0-b3b8641e1e52"
      },
      "execution_count": 38,
      "outputs": [
        {
          "output_type": "stream",
          "name": "stdout",
          "text": [
            "RENT 0.35355388897718293\n",
            "OWN 0.35355388897718293\n",
            "MORTGAGE 0.35355388897718293\n",
            "OTHER 0.35355388897718293\n",
            "PERSONAL 0.2886747276654814\n",
            "EDUCATION 0.2886747276654814\n",
            "MEDICAL 0.2886747276654814\n",
            "VENTURE 0.2886747276654814\n",
            "HOMEIMPROVEMENT 0.2886747276654814\n",
            "DEBTCONSOLIDATION 0.2886747276654814\n",
            "DOWNPAYMENT 6.592327167565238e-14\n",
            "MARRIAGE 6.592327167565238e-14\n"
          ]
        }
      ]
    },
    {
      "cell_type": "code",
      "source": [
        "# What is the shortest connection \n",
        "nx.shortest_path"
      ],
      "metadata": {
        "colab": {
          "base_uri": "https://localhost:8080/"
        },
        "id": "-66GcFOANENh",
        "outputId": "2ed16ca8-5c9b-443e-f09b-c6319948c53f"
      },
      "execution_count": 46,
      "outputs": [
        {
          "output_type": "execute_result",
          "data": {
            "text/plain": [
              "<function networkx.algorithms.shortest_paths.generic.shortest_path(G, source=None, target=None, weight=None, method='dijkstra')>"
            ]
          },
          "metadata": {},
          "execution_count": 46
        }
      ]
    },
    {
      "cell_type": "code",
      "source": [
        "nx.eigenvector_centrality(us_graph)"
      ],
      "metadata": {
        "colab": {
          "base_uri": "https://localhost:8080/"
        },
        "id": "h5g8GxQhNHi9",
        "outputId": "27cc7d73-8466-458c-e3ee-8c145c8b3573"
      },
      "execution_count": 43,
      "outputs": [
        {
          "output_type": "execute_result",
          "data": {
            "text/plain": [
              "{'RENT': 0.35355388897718293,\n",
              " 'PERSONAL': 0.2886747276654814,\n",
              " 'OWN': 0.35355388897718293,\n",
              " 'EDUCATION': 0.2886747276654814,\n",
              " 'MORTGAGE': 0.35355388897718293,\n",
              " 'MEDICAL': 0.2886747276654814,\n",
              " 'VENTURE': 0.2886747276654814,\n",
              " 'HOMEIMPROVEMENT': 0.2886747276654814,\n",
              " 'DEBTCONSOLIDATION': 0.2886747276654814,\n",
              " 'OTHER': 0.35355388897718293,\n",
              " 'DOWNPAYMENT': 6.592327167565238e-14,\n",
              " 'MARRIAGE': 6.592327167565238e-14}"
            ]
          },
          "metadata": {},
          "execution_count": 43
        }
      ]
    },
    {
      "cell_type": "code",
      "source": [
        "most_important_link = nx.eigenvector_centrality(us_graph)"
      ],
      "metadata": {
        "id": "6edO4irgNRK1"
      },
      "execution_count": 44,
      "outputs": []
    },
    {
      "cell_type": "code",
      "source": [
        "#@title Default title text\n",
        "for w in sorted(most_important_link, key=most_important_link.get, reverse=True):\n",
        "    print(w, most_important_link[w])"
      ],
      "metadata": {
        "colab": {
          "base_uri": "https://localhost:8080/"
        },
        "id": "1-SHVFIKNTcy",
        "outputId": "51d067f5-1345-4b0c-8018-f25cc1ee5cbe"
      },
      "execution_count": 45,
      "outputs": [
        {
          "output_type": "stream",
          "name": "stdout",
          "text": [
            "RENT 0.35355388897718293\n",
            "OWN 0.35355388897718293\n",
            "MORTGAGE 0.35355388897718293\n",
            "OTHER 0.35355388897718293\n",
            "PERSONAL 0.2886747276654814\n",
            "EDUCATION 0.2886747276654814\n",
            "MEDICAL 0.2886747276654814\n",
            "VENTURE 0.2886747276654814\n",
            "HOMEIMPROVEMENT 0.2886747276654814\n",
            "DEBTCONSOLIDATION 0.2886747276654814\n",
            "DOWNPAYMENT 6.592327167565238e-14\n",
            "MARRIAGE 6.592327167565238e-14\n"
          ]
        }
      ]
    },
    {
      "cell_type": "code",
      "source": [
        "# What is the shortest connection \n",
        "nx.shortest_path"
      ],
      "metadata": {
        "colab": {
          "base_uri": "https://localhost:8080/"
        },
        "id": "TS7Ud51mNWMS",
        "outputId": "c3fcebb3-1bd3-401a-9d58-da1bd57be760"
      },
      "execution_count": 47,
      "outputs": [
        {
          "output_type": "execute_result",
          "data": {
            "text/plain": [
              "<function networkx.algorithms.shortest_paths.generic.shortest_path(G, source=None, target=None, weight=None, method='dijkstra')>"
            ]
          },
          "metadata": {},
          "execution_count": 47
        }
      ]
    },
    {
      "cell_type": "code",
      "source": [
        "nx.shortest_path(us_graph,\"RENT\",\"MORTGAGE\")"
      ],
      "metadata": {
        "colab": {
          "base_uri": "https://localhost:8080/"
        },
        "id": "BUCcimu8NiOc",
        "outputId": "ee7e5ee4-4c1c-490e-b267-9f40d2a3bc7b"
      },
      "execution_count": 50,
      "outputs": [
        {
          "output_type": "execute_result",
          "data": {
            "text/plain": [
              "['RENT', 'MEDICAL', 'MORTGAGE']"
            ]
          },
          "metadata": {},
          "execution_count": 50
        }
      ]
    },
    {
      "cell_type": "code",
      "source": [
        "plt.figure(figsize=(10,10))\n",
        "nx.draw_networkx(us_graph)\n",
        "plt.show()"
      ],
      "metadata": {
        "colab": {
          "base_uri": "https://localhost:8080/",
          "height": 575
        },
        "id": "sf8shC09N64N",
        "outputId": "b8c34d3c-9689-4636-e623-5f83206d8278"
      },
      "execution_count": 52,
      "outputs": [
        {
          "output_type": "display_data",
          "data": {
            "text/plain": [
              "<Figure size 720x720 with 1 Axes>"
            ],
            "image/png": "[encoded data removed]"
          },
          "metadata": {}
        }
      ]
    },
    {
      "cell_type": "markdown",
      "source": [
        "**Betweeness Centrality**"
      ],
      "metadata": {
        "id": "emf85mh4OQCS"
      }
    },
    {
      "cell_type": "code",
      "source": [
        "nx.betweenness_centrality(us_graph)"
      ],
      "metadata": {
        "colab": {
          "base_uri": "https://localhost:8080/"
        },
        "id": "r-HWw5X9OOLL",
        "outputId": "eb33ea64-6a44-47ed-9256-cddfc66455d2"
      },
      "execution_count": 53,
      "outputs": [
        {
          "output_type": "execute_result",
          "data": {
            "text/plain": [
              "{'RENT': 0.06818181818181818,\n",
              " 'PERSONAL': 0.01818181818181818,\n",
              " 'OWN': 0.06818181818181818,\n",
              " 'EDUCATION': 0.01818181818181818,\n",
              " 'MORTGAGE': 0.06818181818181818,\n",
              " 'MEDICAL': 0.01818181818181818,\n",
              " 'VENTURE': 0.01818181818181818,\n",
              " 'HOMEIMPROVEMENT': 0.01818181818181818,\n",
              " 'DEBTCONSOLIDATION': 0.01818181818181818,\n",
              " 'OTHER': 0.06818181818181818,\n",
              " 'DOWNPAYMENT': 0.0,\n",
              " 'MARRIAGE': 0.0}"
            ]
          },
          "metadata": {},
          "execution_count": 53
        }
      ]
    },
    {
      "cell_type": "code",
      "source": [
        "best_connector = nx.betweenness_centrality(us_graph)\n",
        "for w in sorted(best_connector, key=best_connector.get, reverse=True):\n",
        "    print(w, best_connector[w])"
      ],
      "metadata": {
        "colab": {
          "base_uri": "https://localhost:8080/"
        },
        "id": "lCbCSxQBOUQ8",
        "outputId": "a0028db3-a6fe-447d-b17c-13cbfda69253"
      },
      "execution_count": 54,
      "outputs": [
        {
          "output_type": "stream",
          "name": "stdout",
          "text": [
            "RENT 0.06818181818181818\n",
            "OWN 0.06818181818181818\n",
            "MORTGAGE 0.06818181818181818\n",
            "OTHER 0.06818181818181818\n",
            "PERSONAL 0.01818181818181818\n",
            "EDUCATION 0.01818181818181818\n",
            "MEDICAL 0.01818181818181818\n",
            "VENTURE 0.01818181818181818\n",
            "HOMEIMPROVEMENT 0.01818181818181818\n",
            "DEBTCONSOLIDATION 0.01818181818181818\n",
            "DOWNPAYMENT 0.0\n",
            "MARRIAGE 0.0\n"
          ]
        }
      ]
    },
    {
      "cell_type": "code",
      "source": [
        "group1 = nx.bfs_tree(us_graph,\"RENT\")"
      ],
      "metadata": {
        "id": "zFcefDrxOa_b"
      },
      "execution_count": 55,
      "outputs": []
    },
    {
      "cell_type": "code",
      "source": [
        "group2 = nx.bfs_tree(us_graph,\"OWN\")"
      ],
      "metadata": {
        "id": "nJtwtvAPOfPc"
      },
      "execution_count": 56,
      "outputs": []
    },
    {
      "cell_type": "code",
      "source": [
        "group3 = nx.bfs_tree(us_graph,\"HOMEIMPROVEMENT\")"
      ],
      "metadata": {
        "id": "JSCs7xD7OkBi"
      },
      "execution_count": 57,
      "outputs": []
    },
    {
      "cell_type": "code",
      "source": [
        "nx.draw_networkx(group1)"
      ],
      "metadata": {
        "colab": {
          "base_uri": "https://localhost:8080/",
          "height": 248
        },
        "id": "vTccr9McOorJ",
        "outputId": "d1171242-ce29-4d4d-a6df-888b865f3198"
      },
      "execution_count": 58,
      "outputs": [
        {
          "output_type": "display_data",
          "data": {
            "text/plain": [
              "<Figure size 432x288 with 1 Axes>"
            ],
            "image/png": "[encoded data removed]"
          },
          "metadata": {}
        }
      ]
    },
    {
      "cell_type": "code",
      "source": [
        "nx.draw_networkx(group2)"
      ],
      "metadata": {
        "colab": {
          "base_uri": "https://localhost:8080/",
          "height": 248
        },
        "id": "u6FHeWj3Orbq",
        "outputId": "83cdc0a5-6cf3-42ad-cb4d-d4673f4f6f54"
      },
      "execution_count": 59,
      "outputs": [
        {
          "output_type": "display_data",
          "data": {
            "text/plain": [
              "<Figure size 432x288 with 1 Axes>"
            ],
            "image/png": "[encoded data removed]"
          },
          "metadata": {}
        }
      ]
    },
    {
      "cell_type": "code",
      "source": [
        "nx.draw_networkx(group3)"
      ],
      "metadata": {
        "colab": {
          "base_uri": "https://localhost:8080/",
          "height": 248
        },
        "id": "v-UeTCfaOtw5",
        "outputId": "84f7b290-daa0-4e8f-dd76-1f0e0204ebeb"
      },
      "execution_count": 60,
      "outputs": [
        {
          "output_type": "display_data",
          "data": {
            "text/plain": [
              "<Figure size 432x288 with 1 Axes>"
            ],
            "image/png": "[encoded data removed]"
          },
          "metadata": {}
        }
      ]
    },
    {
      "cell_type": "code",
      "source": [
        "nx.node_connected_component(us_graph,\"VENTURE\")"
      ],
      "metadata": {
        "colab": {
          "base_uri": "https://localhost:8080/"
        },
        "id": "RUWTGyA_OxYA",
        "outputId": "3b0465a1-489a-48c7-9ea5-ab0d9d2d3203"
      },
      "execution_count": 61,
      "outputs": [
        {
          "output_type": "execute_result",
          "data": {
            "text/plain": [
              "{'DEBTCONSOLIDATION',\n",
              " 'EDUCATION',\n",
              " 'HOMEIMPROVEMENT',\n",
              " 'MEDICAL',\n",
              " 'MORTGAGE',\n",
              " 'OTHER',\n",
              " 'OWN',\n",
              " 'PERSONAL',\n",
              " 'RENT',\n",
              " 'VENTURE'}"
            ]
          },
          "metadata": {},
          "execution_count": 61
        }
      ]
    },
    {
      "cell_type": "code",
      "source": [
        "### Association \n",
        "nx.clustering"
      ],
      "metadata": {
        "colab": {
          "base_uri": "https://localhost:8080/"
        },
        "id": "jNR5Oyy_O4cK",
        "outputId": "9ca09855-7f97-4878-bc6f-7afc6f3a02b2"
      },
      "execution_count": 62,
      "outputs": [
        {
          "output_type": "execute_result",
          "data": {
            "text/plain": [
              "<function networkx.algorithms.cluster.clustering(G, nodes=None, weight=None)>"
            ]
          },
          "metadata": {},
          "execution_count": 62
        }
      ]
    },
    {
      "cell_type": "code",
      "source": [
        "nx.clustering(us_graph)"
      ],
      "metadata": {
        "colab": {
          "base_uri": "https://localhost:8080/"
        },
        "id": "RA_ihh6fO6u2",
        "outputId": "7653ff89-8390-466a-c1f1-a33503641efa"
      },
      "execution_count": 63,
      "outputs": [
        {
          "output_type": "execute_result",
          "data": {
            "text/plain": [
              "{'RENT': 0,\n",
              " 'PERSONAL': 0,\n",
              " 'OWN': 0,\n",
              " 'EDUCATION': 0,\n",
              " 'MORTGAGE': 0,\n",
              " 'MEDICAL': 0,\n",
              " 'VENTURE': 0,\n",
              " 'HOMEIMPROVEMENT': 0,\n",
              " 'DEBTCONSOLIDATION': 0,\n",
              " 'OTHER': 0,\n",
              " 'DOWNPAYMENT': 0,\n",
              " 'MARRIAGE': 0}"
            ]
          },
          "metadata": {},
          "execution_count": 63
        }
      ]
    },
    {
      "cell_type": "code",
      "source": [
        "# Load data into DataFrame\n",
        "df = pd.read_csv(\"/content/credit_risk_dataset.csv\")\n",
        "\n",
        "# Create empty graph\n",
        "G = nx.Graph()\n",
        "\n",
        "# Add nodes to graph\n",
        "nodes = [\"credit_score\", \"income\", \"employment_history\", \"debt-to-income_ratio\", \"age\", \"location\", \"loan_term\"]\n",
        "for n in nodes:\n",
        "    G.add_node(n)\n",
        "\n",
        "# Add edges to graph\n",
        "G.add_edge(\"income\", \"credit_score\")\n",
        "G.add_edge(\"employment_history\", \"credit_score\")\n",
        "G.add_edge(\"income\", \"debt-to-income_ratio\")\n",
        "G.add_edge(\"debt-to-income_ratio\", \"loan_term\")\n",
        "G.add_edge(\"age\", \"location\")\n",
        "\n",
        "# Calculate centrality\n",
        "centrality = nx.betweenness_centrality(G)\n",
        "print(\"Node centrality:\", centrality)\n",
        "\n",
        "# Perform community detection\n",
        "communities = nx.algorithms.community.modularity_max.greedy_modularity_communities(G)\n",
        "print(\"Communities:\", communities)\n"
      ],
      "metadata": {
        "colab": {
          "base_uri": "https://localhost:8080/"
        },
        "id": "VqHQ7eEqK-fO",
        "outputId": "e5c83e5c-138e-4d33-f53e-4c79e54b401a"
      },
      "execution_count": 65,
      "outputs": [
        {
          "output_type": "stream",
          "name": "stdout",
          "text": [
            "Node centrality: {'credit_score': 0.2, 'income': 0.26666666666666666, 'employment_history': 0.0, 'debt-to-income_ratio': 0.2, 'age': 0.0, 'location': 0.0, 'loan_term': 0.0}\n",
            "Communities: [frozenset({'income', 'employment_history', 'credit_score'}), frozenset({'age', 'location'}), frozenset({'loan_term', 'debt-to-income_ratio'})]\n"
          ]
        }
      ]
    }
  ]
}